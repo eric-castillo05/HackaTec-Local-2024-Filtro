{
 "cells": [
  {
   "cell_type": "code",
   "execution_count": 9,
   "id": "ddb6e925-0aa3-48b9-a1f2-698802c56458",
   "metadata": {},
   "outputs": [],
   "source": [
    "import pandas as pd\n",
    "import redis\n",
    "import uuid"
   ]
  },
  {
   "cell_type": "code",
   "execution_count": 2,
   "id": "a2d135a8-eef1-4d19-886c-722bf376b419",
   "metadata": {},
   "outputs": [],
   "source": [
    "r = redis.Redis(\n",
    "  host='redis-10364.c325.us-east-1-4.ec2.cloud.redislabs.com',\n",
    "  port=10364,\n",
    "  password='9oxEjbS4slyRNmxknio5Ryi8UaasqLYC')"
   ]
  },
  {
   "cell_type": "code",
   "execution_count": 5,
   "id": "383f4a7b-9c0a-4112-9ee2-c815de49a3c7",
   "metadata": {},
   "outputs": [],
   "source": [
    "df = pd.read_csv('datasets/respuestas_filtered.csv')"
   ]
  },
  {
   "cell_type": "code",
   "execution_count": 6,
   "id": "a3e01770-8fe7-4dee-9c67-2aaceae5e57b",
   "metadata": {},
   "outputs": [
    {
     "data": {
      "text/html": [
       "<div>\n",
       "<style scoped>\n",
       "    .dataframe tbody tr th:only-of-type {\n",
       "        vertical-align: middle;\n",
       "    }\n",
       "\n",
       "    .dataframe tbody tr th {\n",
       "        vertical-align: top;\n",
       "    }\n",
       "\n",
       "    .dataframe thead th {\n",
       "        text-align: right;\n",
       "    }\n",
       "</style>\n",
       "<table border=\"1\" class=\"dataframe\">\n",
       "  <thead>\n",
       "    <tr style=\"text-align: right;\">\n",
       "      <th></th>\n",
       "      <th>Sexo</th>\n",
       "      <th>Edad</th>\n",
       "      <th>Fumador</th>\n",
       "      <th>dedos amarillos</th>\n",
       "      <th>Ansiedad</th>\n",
       "      <th>presion de grupo</th>\n",
       "      <th>enfermedad cronica</th>\n",
       "      <th>fatiga</th>\n",
       "      <th>Alergia</th>\n",
       "      <th>Sibilancias</th>\n",
       "      <th>Consumo Alcohol</th>\n",
       "      <th>Tos</th>\n",
       "      <th>Dificultad respirar</th>\n",
       "      <th>Dificultad tragar</th>\n",
       "      <th>Dolor en pecho</th>\n",
       "      <th>Cancer de pulmon</th>\n",
       "    </tr>\n",
       "  </thead>\n",
       "  <tbody>\n",
       "    <tr>\n",
       "      <th>0</th>\n",
       "      <td>1</td>\n",
       "      <td>57</td>\n",
       "      <td>1</td>\n",
       "      <td>1</td>\n",
       "      <td>2</td>\n",
       "      <td>2</td>\n",
       "      <td>1</td>\n",
       "      <td>1</td>\n",
       "      <td>2</td>\n",
       "      <td>1</td>\n",
       "      <td>2</td>\n",
       "      <td>2</td>\n",
       "      <td>2</td>\n",
       "      <td>2</td>\n",
       "      <td>2</td>\n",
       "      <td>2</td>\n",
       "    </tr>\n",
       "    <tr>\n",
       "      <th>1</th>\n",
       "      <td>1</td>\n",
       "      <td>82</td>\n",
       "      <td>2</td>\n",
       "      <td>2</td>\n",
       "      <td>2</td>\n",
       "      <td>2</td>\n",
       "      <td>1</td>\n",
       "      <td>2</td>\n",
       "      <td>2</td>\n",
       "      <td>2</td>\n",
       "      <td>2</td>\n",
       "      <td>1</td>\n",
       "      <td>1</td>\n",
       "      <td>2</td>\n",
       "      <td>1</td>\n",
       "      <td>2</td>\n",
       "    </tr>\n",
       "    <tr>\n",
       "      <th>2</th>\n",
       "      <td>1</td>\n",
       "      <td>44</td>\n",
       "      <td>1</td>\n",
       "      <td>1</td>\n",
       "      <td>2</td>\n",
       "      <td>2</td>\n",
       "      <td>2</td>\n",
       "      <td>2</td>\n",
       "      <td>2</td>\n",
       "      <td>1</td>\n",
       "      <td>1</td>\n",
       "      <td>1</td>\n",
       "      <td>1</td>\n",
       "      <td>2</td>\n",
       "      <td>2</td>\n",
       "      <td>2</td>\n",
       "    </tr>\n",
       "    <tr>\n",
       "      <th>3</th>\n",
       "      <td>1</td>\n",
       "      <td>29</td>\n",
       "      <td>1</td>\n",
       "      <td>1</td>\n",
       "      <td>1</td>\n",
       "      <td>2</td>\n",
       "      <td>1</td>\n",
       "      <td>2</td>\n",
       "      <td>2</td>\n",
       "      <td>2</td>\n",
       "      <td>2</td>\n",
       "      <td>2</td>\n",
       "      <td>1</td>\n",
       "      <td>1</td>\n",
       "      <td>1</td>\n",
       "      <td>1</td>\n",
       "    </tr>\n",
       "    <tr>\n",
       "      <th>4</th>\n",
       "      <td>1</td>\n",
       "      <td>41</td>\n",
       "      <td>1</td>\n",
       "      <td>1</td>\n",
       "      <td>2</td>\n",
       "      <td>1</td>\n",
       "      <td>2</td>\n",
       "      <td>2</td>\n",
       "      <td>2</td>\n",
       "      <td>1</td>\n",
       "      <td>1</td>\n",
       "      <td>1</td>\n",
       "      <td>2</td>\n",
       "      <td>1</td>\n",
       "      <td>1</td>\n",
       "      <td>2</td>\n",
       "    </tr>\n",
       "  </tbody>\n",
       "</table>\n",
       "</div>"
      ],
      "text/plain": [
       "   Sexo  Edad  Fumador  dedos amarillos  Ansiedad  presion de grupo  \\\n",
       "0     1    57        1                1         2                 2   \n",
       "1     1    82        2                2         2                 2   \n",
       "2     1    44        1                1         2                 2   \n",
       "3     1    29        1                1         1                 2   \n",
       "4     1    41        1                1         2                 1   \n",
       "\n",
       "   enfermedad cronica  fatiga  Alergia  Sibilancias  Consumo Alcohol  Tos  \\\n",
       "0                   1       1        2            1                2    2   \n",
       "1                   1       2        2            2                2    1   \n",
       "2                   2       2        2            1                1    1   \n",
       "3                   1       2        2            2                2    2   \n",
       "4                   2       2        2            1                1    1   \n",
       "\n",
       "   Dificultad respirar  Dificultad tragar  Dolor en pecho  Cancer de pulmon  \n",
       "0                    2                  2               2                 2  \n",
       "1                    1                  2               1                 2  \n",
       "2                    1                  2               2                 2  \n",
       "3                    1                  1               1                 1  \n",
       "4                    2                  1               1                 2  "
      ]
     },
     "execution_count": 6,
     "metadata": {},
     "output_type": "execute_result"
    }
   ],
   "source": [
    "df.head()"
   ]
  },
  {
   "cell_type": "code",
   "execution_count": 8,
   "id": "c10046af-fdd8-4a3b-9b99-e6828d1b1cf4",
   "metadata": {},
   "outputs": [
    {
     "data": {
      "text/plain": [
       "Sexo                   0\n",
       "Edad                   0\n",
       "Fumador                0\n",
       "dedos amarillos        0\n",
       "Ansiedad               0\n",
       "presion de grupo       0\n",
       "enfermedad cronica     0\n",
       "fatiga                 0\n",
       "Alergia                0\n",
       "Sibilancias            0\n",
       "Consumo Alcohol        0\n",
       "Tos                    0\n",
       "Dificultad respirar    0\n",
       "Dificultad tragar      0\n",
       "Dolor en pecho         0\n",
       "Cancer de pulmon       0\n",
       "dtype: int64"
      ]
     },
     "execution_count": 8,
     "metadata": {},
     "output_type": "execute_result"
    }
   ],
   "source": [
    "df.isna().sum()"
   ]
  },
  {
   "cell_type": "code",
   "execution_count": 19,
   "id": "d96fec08-0afb-4b15-aede-af5f11d4dab7",
   "metadata": {
    "scrolled": true
   },
   "outputs": [
    {
     "name": "stdout",
     "output_type": "stream",
     "text": [
      "S\n",
      "E\n",
      "F\n",
      "d\n",
      "A\n",
      "p\n",
      "e\n",
      "f\n",
      "A\n",
      "S\n",
      "C\n",
      "T\n",
      "D\n",
      "D\n",
      "D\n",
      "C\n"
     ]
    }
   ],
   "source": [
    "for row in df.columns:\n",
    "    print(row[0])"
   ]
  },
  {
   "cell_type": "code",
   "execution_count": 54,
   "id": "e66ade25-d5c2-418c-a940-90aa234ff8e6",
   "metadata": {},
   "outputs": [
    {
     "data": {
      "text/plain": [
       "Sexo                   int64\n",
       "Edad                   int64\n",
       "Fumador                int64\n",
       "dedos amarillos        int64\n",
       "Ansiedad               int64\n",
       "presion de grupo       int64\n",
       "enfermedad cronica     int64\n",
       "fatiga                 int64\n",
       "Alergia                int64\n",
       "Sibilancias            int64\n",
       "Consumo Alcohol        int64\n",
       "Tos                    int64\n",
       "Dificultad respirar    int64\n",
       "Dificultad tragar      int64\n",
       "Dolor en pecho         int64\n",
       "Cancer de pulmon       int64\n",
       "dtype: object"
      ]
     },
     "execution_count": 54,
     "metadata": {},
     "output_type": "execute_result"
    }
   ],
   "source": [
    "df.dtypes"
   ]
  },
  {
   "cell_type": "code",
   "execution_count": 51,
   "id": "f9999177-38d3-4e69-b31c-cbb7d5f85869",
   "metadata": {},
   "outputs": [
    {
     "data": {
      "text/plain": [
       "Index(['Sexo', 'Edad', 'Fumador', 'dedos amarillos', 'Ansiedad',\n",
       "       'presion de grupo', 'enfermedad cronica', 'fatiga', 'Alergia',\n",
       "       'Sibilancias', 'Consumo Alcohol', 'Tos', 'Dificultad respirar',\n",
       "       'Dificultad tragar', 'Dolor en pecho', 'Cancer de pulmon'],\n",
       "      dtype='object')"
      ]
     },
     "execution_count": 51,
     "metadata": {},
     "output_type": "execute_result"
    }
   ],
   "source": [
    "col = df.columns\n",
    "col"
   ]
  },
  {
   "cell_type": "code",
   "execution_count": 61,
   "id": "d071e9b1-ec3f-40f2-8b95-02c73af70fb1",
   "metadata": {},
   "outputs": [
    {
     "name": "stdout",
     "output_type": "stream",
     "text": [
      "<class 'str'>\n"
     ]
    }
   ],
   "source": [
    "print(type(str(col[0])))"
   ]
  },
  {
   "cell_type": "code",
   "execution_count": 62,
   "id": "9c4fd87e-7016-4ec5-bb83-c433bf332f9f",
   "metadata": {},
   "outputs": [
    {
     "name": "stdout",
     "output_type": "stream",
     "text": [
      "1 Sexo\n",
      "82 Edad\n",
      "1 Fumador\n",
      "1 dedos amarillos\n",
      "2 Ansiedad\n",
      "2 presion de grupo\n",
      "2 enfermedad cronica\n",
      "2 fatiga\n",
      "2 Alergia\n",
      "2 Sibilancias\n",
      "2 Consumo Alcohol\n",
      "1 Tos\n",
      "1 Dificultad respirar\n",
      "1 Dificultad tragar\n",
      "2 Dolor en pecho\n",
      "1 Sexo\n",
      "82 Edad\n",
      "1 Fumador\n",
      "1 dedos amarillos\n",
      "2 Ansiedad\n",
      "2 presion de grupo\n",
      "2 enfermedad cronica\n",
      "2 fatiga\n",
      "2 Alergia\n",
      "2 Sibilancias\n",
      "2 Consumo Alcohol\n",
      "1 Tos\n",
      "1 Dificultad respirar\n",
      "1 Dificultad tragar\n",
      "2 Dolor en pecho\n"
     ]
    }
   ],
   "source": [
    "for row in range(2):\n",
    "    nreg = str(uuid.uuid4())\n",
    "    for i in range(15):\n",
    "        b = (df.iloc[i].values)\n",
    "        print(b[i], col[i])\n",
    "        r.hset(nreg, str(b[i]), str(col[i]))\n",
    "    # print('----------------------------------------')\n",
    "       "
   ]
  },
  {
   "cell_type": "code",
   "execution_count": 32,
   "id": "6b03538e-3a8c-42c2-8d18-2e6ba5ce162e",
   "metadata": {},
   "outputs": [
    {
     "name": "stdout",
     "output_type": "stream",
     "text": [
      "0\n",
      "1\n",
      "2\n",
      "3\n",
      "4\n"
     ]
    }
   ],
   "source": [
    "for i in range(5): print(i)"
   ]
  },
  {
   "cell_type": "code",
   "execution_count": null,
   "id": "f2694a91-afb0-4f12-a070-c4c22cec41e5",
   "metadata": {},
   "outputs": [],
   "source": []
  }
 ],
 "metadata": {
  "kernelspec": {
   "display_name": "models",
   "language": "python",
   "name": "models"
  },
  "language_info": {
   "codemirror_mode": {
    "name": "ipython",
    "version": 3
   },
   "file_extension": ".py",
   "mimetype": "text/x-python",
   "name": "python",
   "nbconvert_exporter": "python",
   "pygments_lexer": "ipython3",
   "version": "3.12.2"
  }
 },
 "nbformat": 4,
 "nbformat_minor": 5
}
